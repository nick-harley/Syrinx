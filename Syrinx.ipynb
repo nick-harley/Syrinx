{
 "cells": [
  {
   "cell_type": "code",
   "execution_count": 1,
   "id": "ce277a8c",
   "metadata": {},
   "outputs": [],
   "source": [
    "using Chakra, Charm\n",
    "using Syrinx"
   ]
  },
  {
   "cell_type": "code",
   "execution_count": 2,
   "id": "9e3d8fe0",
   "metadata": {},
   "outputs": [
    {
     "data": {
      "text/plain": [
       "true"
      ]
     },
     "execution_count": 2,
     "metadata": {},
     "output_type": "execute_result"
    }
   ],
   "source": [
    "Chakra.isdatasource(Syrinx)"
   ]
  },
  {
   "cell_type": "code",
   "execution_count": 3,
   "id": "c713a7b0",
   "metadata": {},
   "outputs": [
    {
     "data": {
      "text/plain": [
       "Charm.Midi.FileId{Symbol(\"syrinx.mid\")}()"
      ]
     },
     "execution_count": 3,
     "metadata": {},
     "output_type": "execute_result"
    }
   ],
   "source": [
    "x = Charm.Midi.id(\"syrinx.mid\")"
   ]
  },
  {
   "cell_type": "code",
   "execution_count": 4,
   "id": "8aeb98c4",
   "metadata": {},
   "outputs": [
    {
     "data": {
      "text/plain": [
       "Charm.Midi.File{Symbol(\"syrinx.mid\")}(OrderedCollections.OrderedDict{Charm.Midi.TrackId{Symbol(\"syrinx.mid\")}, Charm.Midi.Track{Symbol(\"syrinx.mid\")}}(Charm.Midi.TrackId{Symbol(\"syrinx.mid\"), 1}() => Charm.Midi.Track{Symbol(\"syrinx.mid\"), 1}(OrderedCollections.OrderedDict{Charm.Midi.NoteId{Symbol(\"syrinx.mid\"), 1}, Charm.Midi.Note{Symbol(\"syrinx.mid\"), 1}}(Charm.Midi.NoteId{Symbol(\"syrinx.mid\"), 1, 1}() => Charm.Midi.Note{Symbol(\"syrinx.mid\"), 1, 1}(Charm.Midi.Pitch(68), 0x4d, Charm.Midi.Time(0), Charm.Midi.Duration(359), 0x00), Charm.Midi.NoteId{Symbol(\"syrinx.mid\"), 1, 2}() => Charm.Midi.Note{Symbol(\"syrinx.mid\"), 1, 2}(Charm.Midi.Pitch(67), 0x47, Charm.Midi.Time(360), Charm.Midi.Duration(59), 0x00), Charm.Midi.NoteId{Symbol(\"syrinx.mid\"), 1, 3}() => Charm.Midi.Note{Symbol(\"syrinx.mid\"), 1, 3}(Charm.Midi.Pitch(69), 0x50, Charm.Midi.Time(420), Charm.Midi.Duration(59), 0x00), Charm.Midi.NoteId{Symbol(\"syrinx.mid\"), 1, 4}() => Charm.Midi.Note{Symbol(\"syrinx.mid\"), 1, 4}(Charm.Midi.Pitch(66), 0x57, Charm.Midi.Time(480), Charm.Midi.Duration(359), 0x00), Charm.Midi.NoteId{Symbol(\"syrinx.mid\"), 1, 5}() => Charm.Midi.Note{Symbol(\"syrinx.mid\"), 1, 5}(Charm.Midi.Pitch(65), 0x4e, Charm.Midi.Time(840), Charm.Midi.Duration(59), 0x00), Charm.Midi.NoteId{Symbol(\"syrinx.mid\"), 1, 6}() => Charm.Midi.Note{Symbol(\"syrinx.mid\"), 1, 6}(Charm.Midi.Pitch(67), 0x52, Charm.Midi.Time(900), Charm.Midi.Duration(59), 0x00), Charm.Midi.NoteId{Symbol(\"syrinx.mid\"), 1, 7}() => Charm.Midi.Note{Symbol(\"syrinx.mid\"), 1, 7}(Charm.Midi.Pitch(64), 0x4b, Charm.Midi.Time(960), Charm.Midi.Duration(119), 0x00), Charm.Midi.NoteId{Symbol(\"syrinx.mid\"), 1, 8}() => Charm.Midi.Note{Symbol(\"syrinx.mid\"), 1, 8}(Charm.Midi.Pitch(63), 0x46, Charm.Midi.Time(1080), Charm.Midi.Duration(119), 0x00), Charm.Midi.NoteId{Symbol(\"syrinx.mid\"), 1, 9}() => Charm.Midi.Note{Symbol(\"syrinx.mid\"), 1, 9}(Charm.Midi.Pitch(62), 0x4e, Charm.Midi.Time(1200), Charm.Midi.Duration(119), 0x00), Charm.Midi.NoteId{Symbol(\"syrinx.mid\"), 1, 10}() => Charm.Midi.Note{Symbol(\"syrinx.mid\"), 1, 10}(Charm.Midi.Pitch(59), 0x4e, Charm.Midi.Time(1320), Charm.Midi.Duration(119), 0x00)…))))"
      ]
     },
     "execution_count": 4,
     "metadata": {},
     "output_type": "execute_result"
    }
   ],
   "source": [
    "syrinx = fnd(x,Syrinx)"
   ]
  },
  {
   "cell_type": "code",
   "execution_count": 5,
   "id": "27bededf",
   "metadata": {},
   "outputs": [
    {
     "data": {
      "text/plain": [
       "Charm.Midi.File{Symbol(\"syrinx.mid\")}"
      ]
     },
     "execution_count": 5,
     "metadata": {},
     "output_type": "execute_result"
    }
   ],
   "source": [
    "typeof(syrinx)"
   ]
  },
  {
   "cell_type": "code",
   "execution_count": 6,
   "id": "2283d0b0",
   "metadata": {},
   "outputs": [
    {
     "data": {
      "text/plain": [
       "1-element Vector{Charm.Midi.TrackId{Symbol(\"syrinx.mid\")}}:\n",
       " Charm.Midi.TrackId{Symbol(\"syrinx.mid\"), 1}()"
      ]
     },
     "execution_count": 6,
     "metadata": {},
     "output_type": "execute_result"
    }
   ],
   "source": [
    "tracks = pts(syrinx)"
   ]
  },
  {
   "cell_type": "code",
   "execution_count": 7,
   "id": "5f098334",
   "metadata": {},
   "outputs": [
    {
     "data": {
      "text/plain": [
       "Charm.Midi.TrackId{Symbol(\"syrinx.mid\"), 1}()"
      ]
     },
     "execution_count": 7,
     "metadata": {},
     "output_type": "execute_result"
    }
   ],
   "source": [
    "track1 = tracks[1]"
   ]
  },
  {
   "cell_type": "code",
   "execution_count": 8,
   "id": "b826bba3",
   "metadata": {},
   "outputs": [
    {
     "data": {
      "text/plain": [
       "Charm.Midi.Track{Symbol(\"syrinx.mid\"), 1}(OrderedCollections.OrderedDict{Charm.Midi.NoteId{Symbol(\"syrinx.mid\"), 1}, Charm.Midi.Note{Symbol(\"syrinx.mid\"), 1}}(Charm.Midi.NoteId{Symbol(\"syrinx.mid\"), 1, 1}() => Charm.Midi.Note{Symbol(\"syrinx.mid\"), 1, 1}(Charm.Midi.Pitch(68), 0x4d, Charm.Midi.Time(0), Charm.Midi.Duration(359), 0x00), Charm.Midi.NoteId{Symbol(\"syrinx.mid\"), 1, 2}() => Charm.Midi.Note{Symbol(\"syrinx.mid\"), 1, 2}(Charm.Midi.Pitch(67), 0x47, Charm.Midi.Time(360), Charm.Midi.Duration(59), 0x00), Charm.Midi.NoteId{Symbol(\"syrinx.mid\"), 1, 3}() => Charm.Midi.Note{Symbol(\"syrinx.mid\"), 1, 3}(Charm.Midi.Pitch(69), 0x50, Charm.Midi.Time(420), Charm.Midi.Duration(59), 0x00), Charm.Midi.NoteId{Symbol(\"syrinx.mid\"), 1, 4}() => Charm.Midi.Note{Symbol(\"syrinx.mid\"), 1, 4}(Charm.Midi.Pitch(66), 0x57, Charm.Midi.Time(480), Charm.Midi.Duration(359), 0x00), Charm.Midi.NoteId{Symbol(\"syrinx.mid\"), 1, 5}() => Charm.Midi.Note{Symbol(\"syrinx.mid\"), 1, 5}(Charm.Midi.Pitch(65), 0x4e, Charm.Midi.Time(840), Charm.Midi.Duration(59), 0x00), Charm.Midi.NoteId{Symbol(\"syrinx.mid\"), 1, 6}() => Charm.Midi.Note{Symbol(\"syrinx.mid\"), 1, 6}(Charm.Midi.Pitch(67), 0x52, Charm.Midi.Time(900), Charm.Midi.Duration(59), 0x00), Charm.Midi.NoteId{Symbol(\"syrinx.mid\"), 1, 7}() => Charm.Midi.Note{Symbol(\"syrinx.mid\"), 1, 7}(Charm.Midi.Pitch(64), 0x4b, Charm.Midi.Time(960), Charm.Midi.Duration(119), 0x00), Charm.Midi.NoteId{Symbol(\"syrinx.mid\"), 1, 8}() => Charm.Midi.Note{Symbol(\"syrinx.mid\"), 1, 8}(Charm.Midi.Pitch(63), 0x46, Charm.Midi.Time(1080), Charm.Midi.Duration(119), 0x00), Charm.Midi.NoteId{Symbol(\"syrinx.mid\"), 1, 9}() => Charm.Midi.Note{Symbol(\"syrinx.mid\"), 1, 9}(Charm.Midi.Pitch(62), 0x4e, Charm.Midi.Time(1200), Charm.Midi.Duration(119), 0x00), Charm.Midi.NoteId{Symbol(\"syrinx.mid\"), 1, 10}() => Charm.Midi.Note{Symbol(\"syrinx.mid\"), 1, 10}(Charm.Midi.Pitch(59), 0x4e, Charm.Midi.Time(1320), Charm.Midi.Duration(119), 0x00)…))"
      ]
     },
     "execution_count": 8,
     "metadata": {},
     "output_type": "execute_result"
    }
   ],
   "source": [
    "track1 = fnd(track1,Syrinx)"
   ]
  },
  {
   "cell_type": "code",
   "execution_count": 9,
   "id": "2bf9bb18",
   "metadata": {},
   "outputs": [
    {
     "data": {
      "text/plain": [
       "271-element Vector{Charm.Midi.NoteId{Symbol(\"syrinx.mid\"), 1}}:\n",
       " Charm.Midi.NoteId{Symbol(\"syrinx.mid\"), 1, 1}()\n",
       " Charm.Midi.NoteId{Symbol(\"syrinx.mid\"), 1, 2}()\n",
       " Charm.Midi.NoteId{Symbol(\"syrinx.mid\"), 1, 3}()\n",
       " Charm.Midi.NoteId{Symbol(\"syrinx.mid\"), 1, 4}()\n",
       " Charm.Midi.NoteId{Symbol(\"syrinx.mid\"), 1, 5}()\n",
       " Charm.Midi.NoteId{Symbol(\"syrinx.mid\"), 1, 6}()\n",
       " Charm.Midi.NoteId{Symbol(\"syrinx.mid\"), 1, 7}()\n",
       " Charm.Midi.NoteId{Symbol(\"syrinx.mid\"), 1, 8}()\n",
       " Charm.Midi.NoteId{Symbol(\"syrinx.mid\"), 1, 9}()\n",
       " Charm.Midi.NoteId{Symbol(\"syrinx.mid\"), 1, 10}()\n",
       " Charm.Midi.NoteId{Symbol(\"syrinx.mid\"), 1, 11}()\n",
       " Charm.Midi.NoteId{Symbol(\"syrinx.mid\"), 1, 12}()\n",
       " Charm.Midi.NoteId{Symbol(\"syrinx.mid\"), 1, 13}()\n",
       " ⋮\n",
       " Charm.Midi.NoteId{Symbol(\"syrinx.mid\"), 1, 260}()\n",
       " Charm.Midi.NoteId{Symbol(\"syrinx.mid\"), 1, 261}()\n",
       " Charm.Midi.NoteId{Symbol(\"syrinx.mid\"), 1, 262}()\n",
       " Charm.Midi.NoteId{Symbol(\"syrinx.mid\"), 1, 263}()\n",
       " Charm.Midi.NoteId{Symbol(\"syrinx.mid\"), 1, 264}()\n",
       " Charm.Midi.NoteId{Symbol(\"syrinx.mid\"), 1, 265}()\n",
       " Charm.Midi.NoteId{Symbol(\"syrinx.mid\"), 1, 266}()\n",
       " Charm.Midi.NoteId{Symbol(\"syrinx.mid\"), 1, 267}()\n",
       " Charm.Midi.NoteId{Symbol(\"syrinx.mid\"), 1, 268}()\n",
       " Charm.Midi.NoteId{Symbol(\"syrinx.mid\"), 1, 269}()\n",
       " Charm.Midi.NoteId{Symbol(\"syrinx.mid\"), 1, 270}()\n",
       " Charm.Midi.NoteId{Symbol(\"syrinx.mid\"), 1, 271}()"
      ]
     },
     "execution_count": 9,
     "metadata": {},
     "output_type": "execute_result"
    }
   ],
   "source": [
    "notes = pts(track1)"
   ]
  },
  {
   "cell_type": "code",
   "execution_count": 10,
   "id": "76ffa51f",
   "metadata": {},
   "outputs": [
    {
     "data": {
      "text/plain": [
       "Charm.Midi.Note{Symbol(\"syrinx.mid\"), 1, 1}(Charm.Midi.Pitch(68), 0x4d, Charm.Midi.Time(0), Charm.Midi.Duration(359), 0x00)"
      ]
     },
     "execution_count": 10,
     "metadata": {},
     "output_type": "execute_result"
    }
   ],
   "source": [
    "note1 = fnd(Charm.Midi.id(\"syrinx.mid\",1,1),Syrinx)"
   ]
  },
  {
   "cell_type": "code",
   "execution_count": 11,
   "id": "375e40d9",
   "metadata": {},
   "outputs": [
    {
     "data": {
      "text/plain": [
       "Charm.Midi.Pitch(68)"
      ]
     },
     "execution_count": 11,
     "metadata": {},
     "output_type": "execute_result"
    }
   ],
   "source": [
    "getpitch(note1)"
   ]
  },
  {
   "cell_type": "code",
   "execution_count": 12,
   "id": "472cc9ed",
   "metadata": {},
   "outputs": [
    {
     "data": {
      "text/plain": [
       "Charm.Midi.Time(0)"
      ]
     },
     "execution_count": 12,
     "metadata": {},
     "output_type": "execute_result"
    }
   ],
   "source": [
    "getonset(note1)"
   ]
  },
  {
   "cell_type": "code",
   "execution_count": 13,
   "id": "b55181f6",
   "metadata": {},
   "outputs": [
    {
     "data": {
      "text/plain": [
       "Charm.Midi.Duration(359)"
      ]
     },
     "execution_count": 13,
     "metadata": {},
     "output_type": "execute_result"
    }
   ],
   "source": [
    "getduration(note1)"
   ]
  },
  {
   "cell_type": "code",
   "execution_count": 14,
   "id": "80864dac",
   "metadata": {},
   "outputs": [
    {
     "data": {
      "text/plain": [
       "Chakra.None()"
      ]
     },
     "execution_count": 14,
     "metadata": {},
     "output_type": "execute_result"
    }
   ],
   "source": [
    "fnd(Charm.Midi.id(\"syrinx.mid\",2,1),Syrinx)"
   ]
  },
  {
   "cell_type": "code",
   "execution_count": 15,
   "id": "4d0bb2f6",
   "metadata": {},
   "outputs": [
    {
     "name": "stdout",
     "output_type": "stream",
     "text": [
      " 13.924687 seconds (18.05 M allocations: 967.446 MiB, 1.40% gc time, 99.03% compilation time)\n"
     ]
    },
    {
     "data": {
      "text/plain": [
       "271-element Vector{Chakra.Constituent}:\n",
       " Charm.Midi.Note{Symbol(\"syrinx.mid\"), 1, 1}(Charm.Midi.Pitch(68), 0x4d, Charm.Midi.Time(0), Charm.Midi.Duration(359), 0x00)\n",
       " Charm.Midi.Note{Symbol(\"syrinx.mid\"), 1, 2}(Charm.Midi.Pitch(67), 0x47, Charm.Midi.Time(360), Charm.Midi.Duration(59), 0x00)\n",
       " Charm.Midi.Note{Symbol(\"syrinx.mid\"), 1, 3}(Charm.Midi.Pitch(69), 0x50, Charm.Midi.Time(420), Charm.Midi.Duration(59), 0x00)\n",
       " Charm.Midi.Note{Symbol(\"syrinx.mid\"), 1, 4}(Charm.Midi.Pitch(66), 0x57, Charm.Midi.Time(480), Charm.Midi.Duration(359), 0x00)\n",
       " Charm.Midi.Note{Symbol(\"syrinx.mid\"), 1, 5}(Charm.Midi.Pitch(65), 0x4e, Charm.Midi.Time(840), Charm.Midi.Duration(59), 0x00)\n",
       " Charm.Midi.Note{Symbol(\"syrinx.mid\"), 1, 6}(Charm.Midi.Pitch(67), 0x52, Charm.Midi.Time(900), Charm.Midi.Duration(59), 0x00)\n",
       " Charm.Midi.Note{Symbol(\"syrinx.mid\"), 1, 7}(Charm.Midi.Pitch(64), 0x4b, Charm.Midi.Time(960), Charm.Midi.Duration(119), 0x00)\n",
       " Charm.Midi.Note{Symbol(\"syrinx.mid\"), 1, 8}(Charm.Midi.Pitch(63), 0x46, Charm.Midi.Time(1080), Charm.Midi.Duration(119), 0x00)\n",
       " Charm.Midi.Note{Symbol(\"syrinx.mid\"), 1, 9}(Charm.Midi.Pitch(62), 0x4e, Charm.Midi.Time(1200), Charm.Midi.Duration(119), 0x00)\n",
       " Charm.Midi.Note{Symbol(\"syrinx.mid\"), 1, 10}(Charm.Midi.Pitch(59), 0x4e, Charm.Midi.Time(1320), Charm.Midi.Duration(119), 0x00)\n",
       " Charm.Midi.Note{Symbol(\"syrinx.mid\"), 1, 11}(Charm.Midi.Pitch(68), 0x62, Charm.Midi.Time(1440), Charm.Midi.Duration(359), 0x00)\n",
       " Charm.Midi.Note{Symbol(\"syrinx.mid\"), 1, 12}(Charm.Midi.Pitch(70), 0x58, Charm.Midi.Time(1800), Charm.Midi.Duration(59), 0x00)\n",
       " Charm.Midi.Note{Symbol(\"syrinx.mid\"), 1, 13}(Charm.Midi.Pitch(69), 0x4a, Charm.Midi.Time(1860), Charm.Midi.Duration(59), 0x00)\n",
       " ⋮\n",
       " Charm.Midi.Note{Symbol(\"syrinx.mid\"), 1, 260}(Charm.Midi.Pitch(50), 0x32, Charm.Midi.Time(43040), Charm.Midi.Duration(159), 0x00)\n",
       " Charm.Midi.Note{Symbol(\"syrinx.mid\"), 1, 261}(Charm.Midi.Pitch(47), 0x29, Charm.Midi.Time(43200), Charm.Midi.Duration(1119), 0x00)\n",
       " Charm.Midi.Note{Symbol(\"syrinx.mid\"), 1, 262}(Charm.Midi.Pitch(55), 0x32, Charm.Midi.Time(44320), Charm.Midi.Duration(159), 0x00)\n",
       " Charm.Midi.Note{Symbol(\"syrinx.mid\"), 1, 263}(Charm.Midi.Pitch(53), 0x2f, Charm.Midi.Time(44480), Charm.Midi.Duration(159), 0x00)\n",
       " Charm.Midi.Note{Symbol(\"syrinx.mid\"), 1, 264}(Charm.Midi.Pitch(47), 0x30, Charm.Midi.Time(44640), Charm.Midi.Duration(959), 0x00)\n",
       " Charm.Midi.Note{Symbol(\"syrinx.mid\"), 1, 265}(Charm.Midi.Pitch(57), 0x3e, Charm.Midi.Time(45600), Charm.Midi.Duration(1631), 0x00)\n",
       " Charm.Midi.Note{Symbol(\"syrinx.mid\"), 1, 266}(Charm.Midi.Pitch(55), 0x50, Charm.Midi.Time(47232), Charm.Midi.Duration(191), 0x00)\n",
       " Charm.Midi.Note{Symbol(\"syrinx.mid\"), 1, 267}(Charm.Midi.Pitch(53), 0x50, Charm.Midi.Time(47424), Charm.Midi.Duration(191), 0x00)\n",
       " Charm.Midi.Note{Symbol(\"syrinx.mid\"), 1, 268}(Charm.Midi.Pitch(51), 0x50, Charm.Midi.Time(47616), Charm.Midi.Duration(191), 0x00)\n",
       " Charm.Midi.Note{Symbol(\"syrinx.mid\"), 1, 269}(Charm.Midi.Pitch(49), 0x50, Charm.Midi.Time(47808), Charm.Midi.Duration(191), 0x00)\n",
       " Charm.Midi.Note{Symbol(\"syrinx.mid\"), 1, 270}(Charm.Midi.Pitch(49), 0x50, Charm.Midi.Time(48000), Charm.Midi.Duration(50), 0x00)\n",
       " Charm.Midi.Note{Symbol(\"syrinx.mid\"), 1, 271}(Charm.Midi.Pitch(47), 0x2c, Charm.Midi.Time(48051), Charm.Midi.Duration(1387), 0x00)"
      ]
     },
     "execution_count": 15,
     "metadata": {},
     "output_type": "execute_result"
    }
   ],
   "source": [
    "@time notes = sequence(notes,Syrinx)"
   ]
  },
  {
   "cell_type": "code",
   "execution_count": 16,
   "id": "d022407c",
   "metadata": {},
   "outputs": [
    {
     "data": {
      "text/plain": [
       "Chakra.LinkedViewpoint{Tuple{Charm.Pitch, Charm.Time}}(Viewpoint[Chakra.AtomicViewpoint{Charm.Pitch}(Charm.Attribute{:pitch, Charm.Pitch}(), Type[Charm.Pitch]), Chakra.AtomicViewpoint{Charm.Time}(Charm.Attribute{:onset, Charm.Time}(), Type[Charm.Time])], DataType[Charm.Pitch, Charm.Time])"
      ]
     },
     "execution_count": 16,
     "metadata": {},
     "output_type": "execute_result"
    }
   ],
   "source": [
    "pitchvp = vp(Charm.Attribute(:pitch))\n",
    "onsetvp = vp(Charm.Attribute(:onset))\n",
    "X = link(pitchvp,onsetvp)"
   ]
  },
  {
   "cell_type": "code",
   "execution_count": 17,
   "id": "b53cd515",
   "metadata": {},
   "outputs": [
    {
     "data": {
      "text/plain": [
       "Chakra.AtomicViewpoint{Charm.Pitch}"
      ]
     },
     "execution_count": 17,
     "metadata": {},
     "output_type": "execute_result"
    }
   ],
   "source": [
    "typeof(pitchvp)"
   ]
  },
  {
   "cell_type": "code",
   "execution_count": 18,
   "id": "f3d8cc2f",
   "metadata": {},
   "outputs": [
    {
     "data": {
      "text/plain": [
       "271-element Vector{Union{Chakra.None, Tuple{Charm.Pitch, Charm.Time}}}:\n",
       " (Charm.Midi.Pitch(68), Charm.Midi.Time(0))\n",
       " (Charm.Midi.Pitch(67), Charm.Midi.Time(360))\n",
       " (Charm.Midi.Pitch(69), Charm.Midi.Time(420))\n",
       " (Charm.Midi.Pitch(66), Charm.Midi.Time(480))\n",
       " (Charm.Midi.Pitch(65), Charm.Midi.Time(840))\n",
       " (Charm.Midi.Pitch(67), Charm.Midi.Time(900))\n",
       " (Charm.Midi.Pitch(64), Charm.Midi.Time(960))\n",
       " (Charm.Midi.Pitch(63), Charm.Midi.Time(1080))\n",
       " (Charm.Midi.Pitch(62), Charm.Midi.Time(1200))\n",
       " (Charm.Midi.Pitch(59), Charm.Midi.Time(1320))\n",
       " (Charm.Midi.Pitch(68), Charm.Midi.Time(1440))\n",
       " (Charm.Midi.Pitch(70), Charm.Midi.Time(1800))\n",
       " (Charm.Midi.Pitch(69), Charm.Midi.Time(1860))\n",
       " ⋮\n",
       " (Charm.Midi.Pitch(50), Charm.Midi.Time(43040))\n",
       " (Charm.Midi.Pitch(47), Charm.Midi.Time(43200))\n",
       " (Charm.Midi.Pitch(55), Charm.Midi.Time(44320))\n",
       " (Charm.Midi.Pitch(53), Charm.Midi.Time(44480))\n",
       " (Charm.Midi.Pitch(47), Charm.Midi.Time(44640))\n",
       " (Charm.Midi.Pitch(57), Charm.Midi.Time(45600))\n",
       " (Charm.Midi.Pitch(55), Charm.Midi.Time(47232))\n",
       " (Charm.Midi.Pitch(53), Charm.Midi.Time(47424))\n",
       " (Charm.Midi.Pitch(51), Charm.Midi.Time(47616))\n",
       " (Charm.Midi.Pitch(49), Charm.Midi.Time(47808))\n",
       " (Charm.Midi.Pitch(49), Charm.Midi.Time(48000))\n",
       " (Charm.Midi.Pitch(47), Charm.Midi.Time(48051))"
      ]
     },
     "execution_count": 18,
     "metadata": {},
     "output_type": "execute_result"
    }
   ],
   "source": [
    "vp_map(X,notes)"
   ]
  },
  {
   "cell_type": "code",
   "execution_count": 19,
   "id": "933f2294",
   "metadata": {},
   "outputs": [
    {
     "data": {
      "text/plain": [
       "Charm.Midi.Pitch(68)"
      ]
     },
     "execution_count": 19,
     "metadata": {},
     "output_type": "execute_result"
    }
   ],
   "source": [
    "p1 = geta(\"Charm.pitch\",note1)"
   ]
  },
  {
   "cell_type": "code",
   "execution_count": 20,
   "id": "b5d24a03",
   "metadata": {},
   "outputs": [
    {
     "data": {
      "text/plain": [
       "Charm.Midi.Pitch(67)"
      ]
     },
     "execution_count": 20,
     "metadata": {},
     "output_type": "execute_result"
    }
   ],
   "source": [
    "p2 = geta(\"Charm.pitch\",fnd(Syrinx.id(1,2),Syrinx))"
   ]
  },
  {
   "cell_type": "code",
   "execution_count": 26,
   "id": "d114ca60",
   "metadata": {},
   "outputs": [
    {
     "ename": "LoadError",
     "evalue": "No method implementation of diff : Charm.Midi.Pitch -> Charm.Midi.Pitch -> Charm.Interval. \n # 2 methods for generic function \"diff\":\n[1] diff(x::Charm.Pitch, y::Charm.Pitch) in Charm at /Users/nick/.julia/packages/Charm/3I0rb/src/Pitch.jl:21\n[2] diff(x::Charm.Time, y::Charm.Time) in Charm at /Users/nick/.julia/packages/Charm/3I0rb/src/Time.jl:20",
     "output_type": "error",
     "traceback": [
      "No method implementation of diff : Charm.Midi.Pitch -> Charm.Midi.Pitch -> Charm.Interval. \n # 2 methods for generic function \"diff\":\n[1] diff(x::Charm.Pitch, y::Charm.Pitch) in Charm at /Users/nick/.julia/packages/Charm/3I0rb/src/Pitch.jl:21\n[2] diff(x::Charm.Time, y::Charm.Time) in Charm at /Users/nick/.julia/packages/Charm/3I0rb/src/Time.jl:20",
      "",
      "Stacktrace:",
      " [1] error(s::String)",
      "   @ Base ./error.jl:33",
      " [2] Error(::Function, ::Charm.Midi.Pitch, ::Vararg{Any})",
      "   @ Chakra ~/.julia/packages/Chakra/VNMhJ/src/Chakra.jl:140",
      " [3] diff(x::Charm.Midi.Pitch, y::Charm.Midi.Pitch)",
      "   @ Charm ~/.julia/packages/Charm/3I0rb/src/Pitch.jl:21",
      " [4] top-level scope",
      "   @ In[26]:1",
      " [5] eval",
      "   @ ./boot.jl:373 [inlined]",
      " [6] include_string(mapexpr::typeof(REPL.softscope), mod::Module, code::String, filename::String)",
      "   @ Base ./loading.jl:1196"
     ]
    }
   ],
   "source": [
    "Charm.diff(p1,p2)"
   ]
  },
  {
   "cell_type": "code",
   "execution_count": 22,
   "id": "b94fcbbc",
   "metadata": {},
   "outputs": [
    {
     "ename": "LoadError",
     "evalue": "MethodError: no method matching isless(::Charm.Midi.Pitch, ::Charm.Midi.Pitch)\n\u001b[0mClosest candidates are:\n\u001b[0m  isless(::Any, \u001b[91m::Missing\u001b[39m) at /Applications/Julia-1.7.app/Contents/Resources/julia/share/julia/base/missing.jl:88\n\u001b[0m  isless(\u001b[91m::Missing\u001b[39m, ::Any) at /Applications/Julia-1.7.app/Contents/Resources/julia/share/julia/base/missing.jl:87",
     "output_type": "error",
     "traceback": [
      "MethodError: no method matching isless(::Charm.Midi.Pitch, ::Charm.Midi.Pitch)\n\u001b[0mClosest candidates are:\n\u001b[0m  isless(::Any, \u001b[91m::Missing\u001b[39m) at /Applications/Julia-1.7.app/Contents/Resources/julia/share/julia/base/missing.jl:88\n\u001b[0m  isless(\u001b[91m::Missing\u001b[39m, ::Any) at /Applications/Julia-1.7.app/Contents/Resources/julia/share/julia/base/missing.jl:87",
      "",
      "Stacktrace:",
      " [1] <(x::Charm.Midi.Pitch, y::Charm.Midi.Pitch)",
      "   @ Base ./operators.jl:352",
      " [2] <=(x::Charm.Midi.Pitch, y::Charm.Midi.Pitch)",
      "   @ Base ./operators.jl:401",
      " [3] top-level scope",
      "   @ In[22]:1",
      " [4] eval",
      "   @ ./boot.jl:373 [inlined]",
      " [5] include_string(mapexpr::typeof(REPL.softscope), mod::Module, code::String, filename::String)",
      "   @ Base ./loading.jl:1196"
     ]
    }
   ],
   "source": [
    "p2 <= p1"
   ]
  },
  {
   "cell_type": "code",
   "execution_count": 23,
   "id": "905906d6",
   "metadata": {},
   "outputs": [],
   "source": [
    "Base.:<=(x::Charm.Midi.Pitch,y::Charm.Midi.Pitch)::Bool = x.value <= y.value "
   ]
  },
  {
   "cell_type": "code",
   "execution_count": 24,
   "id": "56ba1722",
   "metadata": {},
   "outputs": [
    {
     "data": {
      "text/plain": [
       "false"
      ]
     },
     "execution_count": 24,
     "metadata": {},
     "output_type": "execute_result"
    }
   ],
   "source": [
    "p1 <= p2"
   ]
  },
  {
   "cell_type": "code",
   "execution_count": null,
   "id": "99a74e3a",
   "metadata": {},
   "outputs": [],
   "source": []
  }
 ],
 "metadata": {
  "kernelspec": {
   "display_name": "Julia 1.7.3",
   "language": "julia",
   "name": "julia-1.7"
  },
  "language_info": {
   "file_extension": ".jl",
   "mimetype": "application/julia",
   "name": "julia",
   "version": "1.7.3"
  }
 },
 "nbformat": 4,
 "nbformat_minor": 5
}
