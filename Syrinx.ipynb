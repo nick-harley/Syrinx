{
 "cells": [
  {
   "cell_type": "code",
   "execution_count": 1,
   "id": "ce277a8c",
   "metadata": {},
   "outputs": [
    {
     "name": "stderr",
     "output_type": "stream",
     "text": [
      "┌ Info: Precompiling Syrinx [bbbfb96e-01f6-4f22-af6d-bfaecc3d456b]\n",
      "└ @ Base loading.jl:1423\n",
      "\u001b[33m\u001b[1m┌ \u001b[22m\u001b[39m\u001b[33m\u001b[1mWarning: \u001b[22m\u001b[39mPackage Charm does not have MIDI in its dependencies:\n",
      "\u001b[33m\u001b[1m│ \u001b[22m\u001b[39m- If you have Charm checked out for development and have\n",
      "\u001b[33m\u001b[1m│ \u001b[22m\u001b[39m  added MIDI as a dependency but haven't updated your primary\n",
      "\u001b[33m\u001b[1m│ \u001b[22m\u001b[39m  environment's manifest file, try `Pkg.resolve()`.\n",
      "\u001b[33m\u001b[1m│ \u001b[22m\u001b[39m- Otherwise you may need to report an issue with Charm\n",
      "\u001b[33m\u001b[1m└ \u001b[22m\u001b[39mLoading MIDI into Charm from project dependency, future warnings for Charm are suppressed.\n",
      "┌ Warning: The call to compilecache failed to create a usable precompiled cache file for Syrinx [bbbfb96e-01f6-4f22-af6d-bfaecc3d456b]\n",
      "│   exception = ErrorException(\"Required dependency Charm [e2273620-1c64-487a-88f9-b29e28f5a7be] failed to load from a cache file.\")\n",
      "└ @ Base loading.jl:1132\n",
      "┌ Info: Precompiling Charm [e2273620-1c64-487a-88f9-b29e28f5a7be]\n",
      "└ @ Base loading.jl:1423\n",
      "\u001b[33m\u001b[1m┌ \u001b[22m\u001b[39m\u001b[33m\u001b[1mWarning: \u001b[22m\u001b[39mPackage Charm does not have MIDI in its dependencies:\n",
      "\u001b[33m\u001b[1m│ \u001b[22m\u001b[39m- If you have Charm checked out for development and have\n",
      "\u001b[33m\u001b[1m│ \u001b[22m\u001b[39m  added MIDI as a dependency but haven't updated your primary\n",
      "\u001b[33m\u001b[1m│ \u001b[22m\u001b[39m  environment's manifest file, try `Pkg.resolve()`.\n",
      "\u001b[33m\u001b[1m│ \u001b[22m\u001b[39m- Otherwise you may need to report an issue with Charm\n",
      "\u001b[33m\u001b[1m└ \u001b[22m\u001b[39mLoading MIDI into Charm from project dependency, future warnings for Charm are suppressed.\n"
     ]
    }
   ],
   "source": [
    "using Syrinx"
   ]
  },
  {
   "cell_type": "code",
   "execution_count": 2,
   "id": "fd22da38",
   "metadata": {},
   "outputs": [],
   "source": [
    "using Chakra"
   ]
  },
  {
   "cell_type": "code",
   "execution_count": 3,
   "id": "90f992a8",
   "metadata": {},
   "outputs": [],
   "source": [
    "using Charm"
   ]
  },
  {
   "cell_type": "code",
   "execution_count": 4,
   "id": "c713a7b0",
   "metadata": {},
   "outputs": [
    {
     "data": {
      "text/plain": [
       "Charm.Midi.FileId{Symbol(\"syrinx.mid\")}()"
      ]
     },
     "execution_count": 4,
     "metadata": {},
     "output_type": "execute_result"
    }
   ],
   "source": [
    "x = Charm.Midi.FileId(\"syrinx.mid\")"
   ]
  },
  {
   "cell_type": "code",
   "execution_count": 5,
   "id": "8aeb98c4",
   "metadata": {},
   "outputs": [
    {
     "data": {
      "text/plain": [
       "Charm.Midi.File{Symbol(\"syrinx.mid\")}(OrderedCollections.OrderedDict{Charm.Midi.TrackId{Symbol(\"syrinx.mid\")}, Charm.Midi.Track{Symbol(\"syrinx.mid\")}}(Charm.Midi.TrackId{Symbol(\"syrinx.mid\"), 1}() => Charm.Midi.Track{Symbol(\"syrinx.mid\"), 1}(OrderedCollections.OrderedDict{Charm.Midi.NoteId{Symbol(\"syrinx.mid\"), 1}, Charm.Midi.Note{Symbol(\"syrinx.mid\"), 1}}(Charm.Midi.NoteId{Symbol(\"syrinx.mid\"), 1, 1}() => Charm.Midi.Note{Symbol(\"syrinx.mid\"), 1, 1}(Charm.Midi.Pitch(68), 0x4d, Charm.Midi.Time(0), Charm.Midi.Duration(359), 0x00), Charm.Midi.NoteId{Symbol(\"syrinx.mid\"), 1, 2}() => Charm.Midi.Note{Symbol(\"syrinx.mid\"), 1, 2}(Charm.Midi.Pitch(67), 0x47, Charm.Midi.Time(360), Charm.Midi.Duration(59), 0x00), Charm.Midi.NoteId{Symbol(\"syrinx.mid\"), 1, 3}() => Charm.Midi.Note{Symbol(\"syrinx.mid\"), 1, 3}(Charm.Midi.Pitch(69), 0x50, Charm.Midi.Time(420), Charm.Midi.Duration(59), 0x00), Charm.Midi.NoteId{Symbol(\"syrinx.mid\"), 1, 4}() => Charm.Midi.Note{Symbol(\"syrinx.mid\"), 1, 4}(Charm.Midi.Pitch(66), 0x57, Charm.Midi.Time(480), Charm.Midi.Duration(359), 0x00), Charm.Midi.NoteId{Symbol(\"syrinx.mid\"), 1, 5}() => Charm.Midi.Note{Symbol(\"syrinx.mid\"), 1, 5}(Charm.Midi.Pitch(65), 0x4e, Charm.Midi.Time(840), Charm.Midi.Duration(59), 0x00), Charm.Midi.NoteId{Symbol(\"syrinx.mid\"), 1, 6}() => Charm.Midi.Note{Symbol(\"syrinx.mid\"), 1, 6}(Charm.Midi.Pitch(67), 0x52, Charm.Midi.Time(900), Charm.Midi.Duration(59), 0x00), Charm.Midi.NoteId{Symbol(\"syrinx.mid\"), 1, 7}() => Charm.Midi.Note{Symbol(\"syrinx.mid\"), 1, 7}(Charm.Midi.Pitch(64), 0x4b, Charm.Midi.Time(960), Charm.Midi.Duration(119), 0x00), Charm.Midi.NoteId{Symbol(\"syrinx.mid\"), 1, 8}() => Charm.Midi.Note{Symbol(\"syrinx.mid\"), 1, 8}(Charm.Midi.Pitch(63), 0x46, Charm.Midi.Time(1080), Charm.Midi.Duration(119), 0x00), Charm.Midi.NoteId{Symbol(\"syrinx.mid\"), 1, 9}() => Charm.Midi.Note{Symbol(\"syrinx.mid\"), 1, 9}(Charm.Midi.Pitch(62), 0x4e, Charm.Midi.Time(1200), Charm.Midi.Duration(119), 0x00), Charm.Midi.NoteId{Symbol(\"syrinx.mid\"), 1, 10}() => Charm.Midi.Note{Symbol(\"syrinx.mid\"), 1, 10}(Charm.Midi.Pitch(59), 0x4e, Charm.Midi.Time(1320), Charm.Midi.Duration(119), 0x00)…))))"
      ]
     },
     "execution_count": 5,
     "metadata": {},
     "output_type": "execute_result"
    }
   ],
   "source": [
    "syrinx = fnd(x,Syrinx)"
   ]
  },
  {
   "cell_type": "code",
   "execution_count": 6,
   "id": "2283d0b0",
   "metadata": {},
   "outputs": [
    {
     "data": {
      "text/plain": [
       "1-element Vector{Charm.Midi.TrackId{Symbol(\"syrinx.mid\")}}:\n",
       " Charm.Midi.TrackId{Symbol(\"syrinx.mid\"), 1}()"
      ]
     },
     "execution_count": 6,
     "metadata": {},
     "output_type": "execute_result"
    }
   ],
   "source": [
    "tracks = pts(syrinx)"
   ]
  },
  {
   "cell_type": "code",
   "execution_count": 7,
   "id": "5f098334",
   "metadata": {},
   "outputs": [
    {
     "data": {
      "text/plain": [
       "Charm.Midi.TrackId{Symbol(\"syrinx.mid\"), 1}()"
      ]
     },
     "execution_count": 7,
     "metadata": {},
     "output_type": "execute_result"
    }
   ],
   "source": [
    "t = tracks[1]"
   ]
  },
  {
   "cell_type": "code",
   "execution_count": 8,
   "id": "b826bba3",
   "metadata": {},
   "outputs": [
    {
     "data": {
      "text/plain": [
       "Charm.Midi.Track{Symbol(\"syrinx.mid\"), 1}(OrderedCollections.OrderedDict{Charm.Midi.NoteId{Symbol(\"syrinx.mid\"), 1}, Charm.Midi.Note{Symbol(\"syrinx.mid\"), 1}}(Charm.Midi.NoteId{Symbol(\"syrinx.mid\"), 1, 1}() => Charm.Midi.Note{Symbol(\"syrinx.mid\"), 1, 1}(Charm.Midi.Pitch(68), 0x4d, Charm.Midi.Time(0), Charm.Midi.Duration(359), 0x00), Charm.Midi.NoteId{Symbol(\"syrinx.mid\"), 1, 2}() => Charm.Midi.Note{Symbol(\"syrinx.mid\"), 1, 2}(Charm.Midi.Pitch(67), 0x47, Charm.Midi.Time(360), Charm.Midi.Duration(59), 0x00), Charm.Midi.NoteId{Symbol(\"syrinx.mid\"), 1, 3}() => Charm.Midi.Note{Symbol(\"syrinx.mid\"), 1, 3}(Charm.Midi.Pitch(69), 0x50, Charm.Midi.Time(420), Charm.Midi.Duration(59), 0x00), Charm.Midi.NoteId{Symbol(\"syrinx.mid\"), 1, 4}() => Charm.Midi.Note{Symbol(\"syrinx.mid\"), 1, 4}(Charm.Midi.Pitch(66), 0x57, Charm.Midi.Time(480), Charm.Midi.Duration(359), 0x00), Charm.Midi.NoteId{Symbol(\"syrinx.mid\"), 1, 5}() => Charm.Midi.Note{Symbol(\"syrinx.mid\"), 1, 5}(Charm.Midi.Pitch(65), 0x4e, Charm.Midi.Time(840), Charm.Midi.Duration(59), 0x00), Charm.Midi.NoteId{Symbol(\"syrinx.mid\"), 1, 6}() => Charm.Midi.Note{Symbol(\"syrinx.mid\"), 1, 6}(Charm.Midi.Pitch(67), 0x52, Charm.Midi.Time(900), Charm.Midi.Duration(59), 0x00), Charm.Midi.NoteId{Symbol(\"syrinx.mid\"), 1, 7}() => Charm.Midi.Note{Symbol(\"syrinx.mid\"), 1, 7}(Charm.Midi.Pitch(64), 0x4b, Charm.Midi.Time(960), Charm.Midi.Duration(119), 0x00), Charm.Midi.NoteId{Symbol(\"syrinx.mid\"), 1, 8}() => Charm.Midi.Note{Symbol(\"syrinx.mid\"), 1, 8}(Charm.Midi.Pitch(63), 0x46, Charm.Midi.Time(1080), Charm.Midi.Duration(119), 0x00), Charm.Midi.NoteId{Symbol(\"syrinx.mid\"), 1, 9}() => Charm.Midi.Note{Symbol(\"syrinx.mid\"), 1, 9}(Charm.Midi.Pitch(62), 0x4e, Charm.Midi.Time(1200), Charm.Midi.Duration(119), 0x00), Charm.Midi.NoteId{Symbol(\"syrinx.mid\"), 1, 10}() => Charm.Midi.Note{Symbol(\"syrinx.mid\"), 1, 10}(Charm.Midi.Pitch(59), 0x4e, Charm.Midi.Time(1320), Charm.Midi.Duration(119), 0x00)…))"
      ]
     },
     "execution_count": 8,
     "metadata": {},
     "output_type": "execute_result"
    }
   ],
   "source": [
    "track = fnd(t,Syrinx)"
   ]
  },
  {
   "cell_type": "code",
   "execution_count": 9,
   "id": "2bf9bb18",
   "metadata": {},
   "outputs": [
    {
     "data": {
      "text/plain": [
       "271-element Vector{Charm.Midi.NoteId{Symbol(\"syrinx.mid\"), 1}}:\n",
       " Charm.Midi.NoteId{Symbol(\"syrinx.mid\"), 1, 1}()\n",
       " Charm.Midi.NoteId{Symbol(\"syrinx.mid\"), 1, 2}()\n",
       " Charm.Midi.NoteId{Symbol(\"syrinx.mid\"), 1, 3}()\n",
       " Charm.Midi.NoteId{Symbol(\"syrinx.mid\"), 1, 4}()\n",
       " Charm.Midi.NoteId{Symbol(\"syrinx.mid\"), 1, 5}()\n",
       " Charm.Midi.NoteId{Symbol(\"syrinx.mid\"), 1, 6}()\n",
       " Charm.Midi.NoteId{Symbol(\"syrinx.mid\"), 1, 7}()\n",
       " Charm.Midi.NoteId{Symbol(\"syrinx.mid\"), 1, 8}()\n",
       " Charm.Midi.NoteId{Symbol(\"syrinx.mid\"), 1, 9}()\n",
       " Charm.Midi.NoteId{Symbol(\"syrinx.mid\"), 1, 10}()\n",
       " Charm.Midi.NoteId{Symbol(\"syrinx.mid\"), 1, 11}()\n",
       " Charm.Midi.NoteId{Symbol(\"syrinx.mid\"), 1, 12}()\n",
       " Charm.Midi.NoteId{Symbol(\"syrinx.mid\"), 1, 13}()\n",
       " ⋮\n",
       " Charm.Midi.NoteId{Symbol(\"syrinx.mid\"), 1, 260}()\n",
       " Charm.Midi.NoteId{Symbol(\"syrinx.mid\"), 1, 261}()\n",
       " Charm.Midi.NoteId{Symbol(\"syrinx.mid\"), 1, 262}()\n",
       " Charm.Midi.NoteId{Symbol(\"syrinx.mid\"), 1, 263}()\n",
       " Charm.Midi.NoteId{Symbol(\"syrinx.mid\"), 1, 264}()\n",
       " Charm.Midi.NoteId{Symbol(\"syrinx.mid\"), 1, 265}()\n",
       " Charm.Midi.NoteId{Symbol(\"syrinx.mid\"), 1, 266}()\n",
       " Charm.Midi.NoteId{Symbol(\"syrinx.mid\"), 1, 267}()\n",
       " Charm.Midi.NoteId{Symbol(\"syrinx.mid\"), 1, 268}()\n",
       " Charm.Midi.NoteId{Symbol(\"syrinx.mid\"), 1, 269}()\n",
       " Charm.Midi.NoteId{Symbol(\"syrinx.mid\"), 1, 270}()\n",
       " Charm.Midi.NoteId{Symbol(\"syrinx.mid\"), 1, 271}()"
      ]
     },
     "execution_count": 9,
     "metadata": {},
     "output_type": "execute_result"
    }
   ],
   "source": [
    "notes = pts(track)"
   ]
  },
  {
   "cell_type": "code",
   "execution_count": 11,
   "id": "f0b28ddc",
   "metadata": {},
   "outputs": [
    {
     "data": {
      "text/plain": [
       "Charm.Midi.Note{Symbol(\"syrinx.mid\"), 1, 1}(Charm.Midi.Pitch(68), 0x4d, Charm.Midi.Time(0), Charm.Midi.Duration(359), 0x00)"
      ]
     },
     "execution_count": 11,
     "metadata": {},
     "output_type": "execute_result"
    }
   ],
   "source": [
    "fnd(Charm.Midi.id(\"syrinx.mid\",1,1),Syrinx)"
   ]
  },
  {
   "cell_type": "code",
   "execution_count": 13,
   "id": "76ffa51f",
   "metadata": {},
   "outputs": [
    {
     "data": {
      "text/plain": [
       "Charm.Midi.Note{Symbol(\"syrinx.mid\"), 1, 2}(Charm.Midi.Pitch(67), 0x47, Charm.Midi.Time(360), Charm.Midi.Duration(59), 0x00)"
      ]
     },
     "execution_count": 13,
     "metadata": {},
     "output_type": "execute_result"
    }
   ],
   "source": [
    "fnd(Charm.Midi.id(\"syrinx.mid\",1,2),Syrinx)"
   ]
  },
  {
   "cell_type": "code",
   "execution_count": 15,
   "id": "4d0bb2f6",
   "metadata": {},
   "outputs": [
    {
     "data": {
      "text/plain": [
       "271-element Vector{Chakra.Constituent}:\n",
       " Charm.Midi.Note{Symbol(\"syrinx.mid\"), 1, 1}(Charm.Midi.Pitch(68), 0x4d, Charm.Midi.Time(0), Charm.Midi.Duration(359), 0x00)\n",
       " Charm.Midi.Note{Symbol(\"syrinx.mid\"), 1, 2}(Charm.Midi.Pitch(67), 0x47, Charm.Midi.Time(360), Charm.Midi.Duration(59), 0x00)\n",
       " Charm.Midi.Note{Symbol(\"syrinx.mid\"), 1, 3}(Charm.Midi.Pitch(69), 0x50, Charm.Midi.Time(420), Charm.Midi.Duration(59), 0x00)\n",
       " Charm.Midi.Note{Symbol(\"syrinx.mid\"), 1, 4}(Charm.Midi.Pitch(66), 0x57, Charm.Midi.Time(480), Charm.Midi.Duration(359), 0x00)\n",
       " Charm.Midi.Note{Symbol(\"syrinx.mid\"), 1, 5}(Charm.Midi.Pitch(65), 0x4e, Charm.Midi.Time(840), Charm.Midi.Duration(59), 0x00)\n",
       " Charm.Midi.Note{Symbol(\"syrinx.mid\"), 1, 6}(Charm.Midi.Pitch(67), 0x52, Charm.Midi.Time(900), Charm.Midi.Duration(59), 0x00)\n",
       " Charm.Midi.Note{Symbol(\"syrinx.mid\"), 1, 7}(Charm.Midi.Pitch(64), 0x4b, Charm.Midi.Time(960), Charm.Midi.Duration(119), 0x00)\n",
       " Charm.Midi.Note{Symbol(\"syrinx.mid\"), 1, 8}(Charm.Midi.Pitch(63), 0x46, Charm.Midi.Time(1080), Charm.Midi.Duration(119), 0x00)\n",
       " Charm.Midi.Note{Symbol(\"syrinx.mid\"), 1, 9}(Charm.Midi.Pitch(62), 0x4e, Charm.Midi.Time(1200), Charm.Midi.Duration(119), 0x00)\n",
       " Charm.Midi.Note{Symbol(\"syrinx.mid\"), 1, 10}(Charm.Midi.Pitch(59), 0x4e, Charm.Midi.Time(1320), Charm.Midi.Duration(119), 0x00)\n",
       " Charm.Midi.Note{Symbol(\"syrinx.mid\"), 1, 11}(Charm.Midi.Pitch(68), 0x62, Charm.Midi.Time(1440), Charm.Midi.Duration(359), 0x00)\n",
       " Charm.Midi.Note{Symbol(\"syrinx.mid\"), 1, 12}(Charm.Midi.Pitch(70), 0x58, Charm.Midi.Time(1800), Charm.Midi.Duration(59), 0x00)\n",
       " Charm.Midi.Note{Symbol(\"syrinx.mid\"), 1, 13}(Charm.Midi.Pitch(69), 0x4a, Charm.Midi.Time(1860), Charm.Midi.Duration(59), 0x00)\n",
       " ⋮\n",
       " Charm.Midi.Note{Symbol(\"syrinx.mid\"), 1, 260}(Charm.Midi.Pitch(50), 0x32, Charm.Midi.Time(43040), Charm.Midi.Duration(159), 0x00)\n",
       " Charm.Midi.Note{Symbol(\"syrinx.mid\"), 1, 261}(Charm.Midi.Pitch(47), 0x29, Charm.Midi.Time(43200), Charm.Midi.Duration(1119), 0x00)\n",
       " Charm.Midi.Note{Symbol(\"syrinx.mid\"), 1, 262}(Charm.Midi.Pitch(55), 0x32, Charm.Midi.Time(44320), Charm.Midi.Duration(159), 0x00)\n",
       " Charm.Midi.Note{Symbol(\"syrinx.mid\"), 1, 263}(Charm.Midi.Pitch(53), 0x2f, Charm.Midi.Time(44480), Charm.Midi.Duration(159), 0x00)\n",
       " Charm.Midi.Note{Symbol(\"syrinx.mid\"), 1, 264}(Charm.Midi.Pitch(47), 0x30, Charm.Midi.Time(44640), Charm.Midi.Duration(959), 0x00)\n",
       " Charm.Midi.Note{Symbol(\"syrinx.mid\"), 1, 265}(Charm.Midi.Pitch(57), 0x3e, Charm.Midi.Time(45600), Charm.Midi.Duration(1631), 0x00)\n",
       " Charm.Midi.Note{Symbol(\"syrinx.mid\"), 1, 266}(Charm.Midi.Pitch(55), 0x50, Charm.Midi.Time(47232), Charm.Midi.Duration(191), 0x00)\n",
       " Charm.Midi.Note{Symbol(\"syrinx.mid\"), 1, 267}(Charm.Midi.Pitch(53), 0x50, Charm.Midi.Time(47424), Charm.Midi.Duration(191), 0x00)\n",
       " Charm.Midi.Note{Symbol(\"syrinx.mid\"), 1, 268}(Charm.Midi.Pitch(51), 0x50, Charm.Midi.Time(47616), Charm.Midi.Duration(191), 0x00)\n",
       " Charm.Midi.Note{Symbol(\"syrinx.mid\"), 1, 269}(Charm.Midi.Pitch(49), 0x50, Charm.Midi.Time(47808), Charm.Midi.Duration(191), 0x00)\n",
       " Charm.Midi.Note{Symbol(\"syrinx.mid\"), 1, 270}(Charm.Midi.Pitch(49), 0x50, Charm.Midi.Time(48000), Charm.Midi.Duration(50), 0x00)\n",
       " Charm.Midi.Note{Symbol(\"syrinx.mid\"), 1, 271}(Charm.Midi.Pitch(47), 0x2c, Charm.Midi.Time(48051), Charm.Midi.Duration(1387), 0x00)"
      ]
     },
     "execution_count": 15,
     "metadata": {},
     "output_type": "execute_result"
    }
   ],
   "source": [
    "sequence(notes,Syrinx)"
   ]
  },
  {
   "cell_type": "code",
   "execution_count": null,
   "id": "d022407c",
   "metadata": {},
   "outputs": [],
   "source": []
  }
 ],
 "metadata": {
  "kernelspec": {
   "display_name": "Julia 1.7.3",
   "language": "julia",
   "name": "julia-1.7"
  },
  "language_info": {
   "file_extension": ".jl",
   "mimetype": "application/julia",
   "name": "julia",
   "version": "1.7.3"
  }
 },
 "nbformat": 4,
 "nbformat_minor": 5
}
